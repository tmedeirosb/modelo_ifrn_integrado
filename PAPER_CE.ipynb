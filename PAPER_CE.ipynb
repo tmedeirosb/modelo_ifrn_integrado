{
  "nbformat": 4,
  "nbformat_minor": 0,
  "metadata": {
    "colab": {
      "name": "PAPER_CE.ipynb",
      "version": "0.3.2",
      "provenance": [],
      "include_colab_link": true
    },
    "kernelspec": {
      "name": "python3",
      "display_name": "Python 3"
    },
    "accelerator": "GPU"
  },
  "cells": [
    {
      "cell_type": "markdown",
      "metadata": {
        "id": "view-in-github",
        "colab_type": "text"
      },
      "source": [
        "<a href=\"https://colab.research.google.com/github/tmedeirosb/modelo_ifrn_integrado/blob/master/PAPER_CE.ipynb\" target=\"_parent\"><img src=\"https://colab.research.google.com/assets/colab-badge.svg\" alt=\"Open In Colab\"/></a>"
      ]
    },
    {
      "metadata": {
        "id": "h-Iir1eBpYDs",
        "colab_type": "text"
      },
      "cell_type": "markdown",
      "source": [
        "# Paper: XXXX\n",
        "# Journal: Computer & Education\n",
        "\n",
        "## Abstract: XXXX\n",
        "\n",
        "O objetivo deste notebook é mostrar que o uso de técnicas de imbalanced learning pode melhorar a acurácia de modelos preditivos de evasão. \n",
        "\n",
        "Na primeira parte do paper serão feitos dois modelos: DT, MLP. A escolha dos dois se deve ao fato que no paper (https://www.sciencedirect.com/science/article/pii/S1877050915036182) essas duas técnicas são as mais utilizadas. \n",
        "\n",
        "Na segunda parte será utilizada a técnica Balanced Bagging (https://imbalanced-learn.readthedocs.io/en/stable/generated/imblearn.ensemble.BalancedBaggingClassifier.html) com o corre DT. \n",
        "\n",
        "Para cada modelo serão gerados as métricas: precision, accuracy, recall, ROC, confusion matrix e G-mean. Este último será utilizado para comparação entre modelos como indicado para problemas de dados desbalanceados (https://sci2s.ugr.es/keel/pdf/algorithm/congreso/kubat97addressing.pdf). \n",
        "\n",
        "Ao fim é feito o teste de p-value para confirmar se houve diferença estatística entre o desempenho dos modelos"
      ]
    },
    {
      "metadata": {
        "id": "WjXsxt7pp8Et",
        "colab_type": "text"
      },
      "cell_type": "markdown",
      "source": [
        "Import packages "
      ]
    },
    {
      "metadata": {
        "id": "9jr0Zc0GqBqq",
        "colab_type": "code",
        "colab": {}
      },
      "cell_type": "code",
      "source": [
        "#import packages\n",
        "\n",
        "#graphs\n",
        "import matplotlib.pyplot as plt\n",
        "import matplotlib\n",
        "import seaborn as sns; sns.set()\n",
        "\n",
        "#google drive\n",
        "import os\n",
        "from google.colab import drive\n",
        "\n",
        "#data crawling\n",
        "import numpy as np\n",
        "import pandas as pd\n",
        "\n",
        "#evalueting models\n",
        "from sklearn.metrics import classification_report\n",
        "from sklearn.metrics import confusion_matrix\n",
        "from sklearn.model_selection import cross_val_predict \n",
        "from sklearn.metrics import roc_curve\n",
        "from sklearn.metrics import roc_auc_score\n",
        "from sklearn.model_selection import cross_val_score\n",
        "from sklearn.metrics import make_scorer\n",
        "from sklearn import model_selection\n",
        "\n",
        "#classic models\n",
        "from sklearn.model_selection import GridSearchCV\n",
        "from sklearn.model_selection import train_test_split\n",
        "from sklearn.tree import DecisionTreeClassifier\n",
        "from sklearn.neighbors import KNeighborsClassifier\n",
        "from sklearn.svm import SVC\n",
        "from sklearn.naive_bayes import GaussianNB\n",
        "from sklearn.neural_network import MLPClassifier\n",
        "\n",
        "#imbalanced\n",
        "from imblearn.ensemble import BalancedBaggingClassifier\n",
        "from sklearn.model_selection import cross_validate\n",
        "from sklearn.base import BaseEstimator\n",
        "from sklearn.base import ClassifierMixin\n",
        "from imblearn.ensemble import BalanceCascade\n",
        "import operator\n",
        "from sklearn.base import clone\n",
        "from imblearn.metrics import geometric_mean_score\n",
        "\n",
        "#show graphs in notebook\n",
        "%matplotlib inline"
      ],
      "execution_count": 0,
      "outputs": []
    },
    {
      "metadata": {
        "id": "sQNaWFARqGQI",
        "colab_type": "text"
      },
      "cell_type": "markdown",
      "source": [
        "Import database. The construct the database is available in https://github.com/tmedeirosb/modelo_ifrn_integrado/blob/master/versao_2/workflow_criando_base.ipynb "
      ]
    },
    {
      "metadata": {
        "id": "U6PYnnRXpWbW",
        "colab_type": "code",
        "outputId": "c9544535-929f-4a32-fc9f-0680c49af3fc",
        "colab": {
          "base_uri": "https://localhost:8080/",
          "height": 139
        }
      },
      "cell_type": "code",
      "source": [
        "#impor database\n",
        "drive.mount('/content/drive')\n",
        "dados_tunning = pd.read_json('/content/drive/My Drive/Colab Notebooks/dados/dados_workflow_ivan.json')\n",
        "dados = dados_tunning.copy()\n",
        "dados.shape"
      ],
      "execution_count": 2,
      "outputs": [
        {
          "output_type": "stream",
          "text": [
            "Go to this URL in a browser: https://accounts.google.com/o/oauth2/auth?client_id=947318989803-6bn6qk8qdgf4n4g3pfee6491hc0brc4i.apps.googleusercontent.com&redirect_uri=urn%3Aietf%3Awg%3Aoauth%3A2.0%3Aoob&scope=email%20https%3A%2F%2Fwww.googleapis.com%2Fauth%2Fdocs.test%20https%3A%2F%2Fwww.googleapis.com%2Fauth%2Fdrive%20https%3A%2F%2Fwww.googleapis.com%2Fauth%2Fdrive.photos.readonly%20https%3A%2F%2Fwww.googleapis.com%2Fauth%2Fpeopleapi.readonly&response_type=code\n",
            "\n",
            "Enter your authorization code:\n",
            "··········\n",
            "Mounted at /content/drive\n"
          ],
          "name": "stdout"
        },
        {
          "output_type": "execute_result",
          "data": {
            "text/plain": [
              "(8908, 33)"
            ]
          },
          "metadata": {
            "tags": []
          },
          "execution_count": 2
        }
      ]
    },
    {
      "metadata": {
        "id": "UtBdTGM2qWEJ",
        "colab_type": "text"
      },
      "cell_type": "markdown",
      "source": [
        "Functions to pre-process data (remove NaN, dummies transform),  and evaluate the model\n",
        "\n"
      ]
    },
    {
      "metadata": {
        "id": "czxM6DyNo_W_",
        "colab_type": "code",
        "colab": {}
      },
      "cell_type": "code",
      "source": [
        "#config enviroment\n",
        "#show all columns\n",
        "pd.set_option('display.max_columns', None)\n",
        "\n",
        "#clean the NaN\n",
        "def preparing_data(dados):\n",
        "    print(dados.shape)\n",
        "    dados = dados.dropna()\n",
        "    print(dados.shape)\n",
        "    \n",
        "    #configura os dados de entrada e saída\n",
        "    y = dados.classe\n",
        "    X = dados\n",
        "\n",
        "    del X['classe']\n",
        "    X.shape    \n",
        "    \n",
        "    #binazira os dados devido aos atributos categoricos \n",
        "    dados_dummies = pd.get_dummies(X, drop_first=True)\n",
        "    dados_dummies.shape\n",
        "\n",
        "    #remove atributos inconistentes\n",
        "    dados_clean = dados_dummies.replace([np.inf, -np.inf], np.nan)\n",
        "    dados_clean = dados_clean.dropna(axis=1, how='all')\n",
        "    #print(dados_clean.info())\n",
        "    \n",
        "    return (dados_clean, y)\n",
        "\n",
        "#plot roc curve\n",
        "def plot_roc_curve(fpr, tpr, label=None):    \n",
        "    plt.plot(fpr, tpr, linewidth=2, label=label)    \n",
        "    plt.plot([0, 1], [0, 1], 'k--')    \n",
        "    plt.axis([0, 1, 0, 1])   \n",
        "    plt.xlabel('False Positive Rate')    \n",
        "    plt.ylabel('True Positive Rate')\n",
        "    \n",
        "#evaluating models\n",
        "def evaluating(model, ytest, ypred, Xtest):\n",
        "    #matriz de confusao (AP: atual positivo, AN: atual negativo, PP: pred. positivo, PN: pred. negativo)\n",
        "    #     AN | AP \n",
        "    # --------------\n",
        "    # PN: TN | FN\n",
        "    # PP: FP | TP\n",
        "\n",
        "    #Text summary of the precision, recall, F1 score for each class\n",
        "    #precision = TP/(TP+FP); TN/(TN+FN) \n",
        "    #recall    = TP/(TP+FN); TN/(TN+FP)\n",
        "    print(classification_report(ytest, ypred))    \n",
        "    \n",
        "    #Evaluating\n",
        "    mat = confusion_matrix(ytest, ypred)\n",
        "    sns.heatmap(mat.T, square=True, annot=True, fmt='d', cbar=False)\n",
        "    plt.xlabel('true label')\n",
        "    plt.ylabel('predicted label');\n",
        "    \n",
        "    #tn, fp, fn, tp = confusion_matrix(ytest, ypred).ravel()    \n",
        "    #print(tp)\n",
        "    #print(tn)\n",
        "    #print(fn)\n",
        "    #print(fp)\n",
        "    #print( tn/(tn+fp) )\n",
        "    \n",
        "    #CURVA ROC\n",
        "    fig = plt.figure()\n",
        "    y_probas = cross_val_predict(model, Xtest, ytest, cv=10, method=\"predict_proba\") \n",
        "\n",
        "    y_scores = y_probas[:, 1]   # score = proba of positive class \n",
        "    fpr, tpr, thresholds = roc_curve(ytest, y_scores)\n",
        "\n",
        "    plot_roc_curve(fpr, tpr) \n",
        "    plt.show()\n",
        "    print(\"AUC: %f\" % roc_auc_score(ytest, y_scores))\n",
        "    \n",
        "def plot_alg_comp(results, names):\n",
        "  fig = plt.figure()\n",
        "  fig.suptitle('Algorithm Comparison')\n",
        "  ax = fig.add_subplot(111)\n",
        "  plt.boxplot( results )\n",
        "  ax.set_xticklabels( names )\n",
        "  plt.xticks(rotation=90)\n",
        "  plt.show()\n",
        "\n",
        "#metric recall min\n",
        "def recall_min(y_true, y_pred):\n",
        "  tn = confusion_matrix(y_true, y_pred)[0, 0]\n",
        "  fp = confusion_matrix(y_true, y_pred)[0, 1]\n",
        "  return tn/(tn+fp)\n"
      ],
      "execution_count": 0,
      "outputs": []
    },
    {
      "metadata": {
        "id": "sYYQ-SFatnEO",
        "colab_type": "text"
      },
      "cell_type": "markdown",
      "source": [
        "Function que define os parâmetros dos modelos clássicos (DT, MLP) e do GridSearch, a fim de selecionar o melhor modelo"
      ]
    },
    {
      "metadata": {
        "id": "bAAiSeN_uNZ7",
        "colab_type": "code",
        "colab": {}
      },
      "cell_type": "code",
      "source": [
        "def select_model(Xtrain, Xtest, ytrain, ytest):\n",
        "    # List of dictionaries, each containing a model name,\n",
        "    # it's estimator and a dict of hyperparameters\n",
        "    models = [\n",
        "        {\n",
        "            \"name\": \"DecisionTree\",\n",
        "            \"estimator\": DecisionTreeClassifier(),\n",
        "            \"hyperparameters\":\n",
        "                {\n",
        "                    \"criterion\": [\"gini\", \"entropy\"],\n",
        "                    #\"min_samples_split\": [2],\n",
        "                    \"max_depth\": [None, 3, 5],\n",
        "                    #\"min_samples_leaf\": [1],\n",
        "                    \"max_leaf_nodes\": [None, 5, 10, 20]\n",
        "                }\n",
        "        },\n",
        "        #{\n",
        "        #    \"name\": \"LogisticRegression\",\n",
        "        #    \"estimator\": LogisticRegression(),\n",
        "        #    \"hyperparameters\":\n",
        "        #        {\n",
        "        #            \"solver\": [\"newton-cg\", \"liblinear\"]\n",
        "        #        }\n",
        "        #},\n",
        "        {\n",
        "            \"name\":\"MLP\",\n",
        "            \"estimator\": MLPClassifier(),\n",
        "            \"hyperparameters\":\n",
        "            {\n",
        "                'solver': ['lbfgs'], \n",
        "                'max_iter': [200],\n",
        "                'alpha': 10.0 ** -np.arange(1, 4), \n",
        "                'hidden_layer_sizes':np.arange(5, 20, 3), \n",
        "                'random_state':[0, 42]\n",
        "            }            \n",
        "        }\n",
        "        #{\n",
        "        #    \"name\": \"Naive-Bayes\",\n",
        "        #    \"estimator\": GaussianNB(),\n",
        "        #    \"hyperparameters\":\n",
        "        #        {\n",
        "        #        }\n",
        "        #},\n",
        "        #{\n",
        "        #    \"name\": \"KNeighborsClassifier\",\n",
        "        #    \"estimator\": KNeighborsClassifier(),\n",
        "        #    \"hyperparameters\":\n",
        "        #        {\n",
        "        #            \"n_neighbors\": range(1,20,2),\n",
        "        #            \"weights\": [\"distance\", \"uniform\"],\n",
        "        #            \"algorithm\": [\"ball_tree\", \"kd_tree\", \"brute\"],\n",
        "        #            \"p\": [1,2]\n",
        "        #        }\n",
        "        #},\n",
        "        #{\n",
        "        #    \"name\":\"SVC\",\n",
        "        #    \"estimator\":SVC(),\n",
        "        #    \"hyperparameters\":\n",
        "        #        {\n",
        "        #          \"kernel\": ['rbf'],  \n",
        "        #          \"C\": [0.001, 0.01, 0.1, 1, 10],\n",
        "        #          \"gamma\": [0.001, 0.01, 0.1, 1]\n",
        "        #        }\n",
        "        #},\n",
        "    ]      \n",
        "   \n",
        "    results = []\n",
        "    names = []    \n",
        "         \n",
        "    #for each model traing and evaluating\n",
        "    for model in models:\n",
        "        print(model['name'])\n",
        "        print('-'*len(model['name']))\n",
        "\n",
        "        #find best param\n",
        "        grid = GridSearchCV(model[\"estimator\"],\n",
        "                            param_grid=model[\"hyperparameters\"],\n",
        "                            cv=10, \n",
        "                            verbose=1,\n",
        "                            n_jobs = -1,\n",
        "                            scoring=make_scorer(geometric_mean_score))\n",
        "                            #scoring='recall_macro')\n",
        "                            #scoring='accuracy')\n",
        "                            #scoring=make_scorer(recall_min))\n",
        "        \n",
        "        grid.fit(Xtrain, ytrain)\n",
        "        model[\"best_params\"] = grid.best_params_\n",
        "        model[\"best_score\"] = grid.best_score_\n",
        "        model[\"best_model\"] = grid.best_estimator_\n",
        "\n",
        "        print(\"Best Score: {}\".format(model[\"best_score\"]))\n",
        "        print(\"Best Parameters: {}\".format(model[\"best_params\"]))\n",
        "                \n",
        "    return models"
      ],
      "execution_count": 0,
      "outputs": []
    },
    {
      "metadata": {
        "id": "ftI1Vbbft6IB",
        "colab_type": "text"
      },
      "cell_type": "markdown",
      "source": [
        "Define os atributos da base de dados e, caso ainda tenha valores NAN, substituti por -1"
      ]
    },
    {
      "metadata": {
        "id": "agcnVSLHqerc",
        "colab_type": "code",
        "outputId": "ceba324d-f9ae-496c-85d1-f7f9fd60c892",
        "colab": {
          "base_uri": "https://localhost:8080/",
          "height": 216
        }
      },
      "cell_type": "code",
      "source": [
        "#select attributes\n",
        "atributos = [\n",
        "       'LnguaPortuguesaeLiteraturaI90H',\n",
        "       'LnguaPortuguesaeLiteraturaI90H_dependencia',\n",
        "       'LnguaPortuguesaeLiteraturaI90H_freq', 'MatemticaI120H',\n",
        "       'MatemticaI120H_dependencia', 'MatemticaI120H_freq', 'acompanhamento',\n",
        "       'aluno_exclusivo_rede_publica', 'artificial', 'classe', 'conceito',\n",
        "       'conceito_freq', 'descricao_area_residencial',\n",
        "       'descricao_companhia_domiciliar', 'descricao_estado_civil',\n",
        "       'descricao_historico', 'descricao_imovel', 'descricao_mae_escolaridade',\n",
        "       'descricao_pai_escolaridade', 'descricao_raca',\n",
        "       'descricao_responsavel_escolaridade',\n",
        "       'descricao_responsavel_financeiro', 'descricao_trabalho', 'idade',\n",
        "       'pessoa_fisica__sexo', 'possui_necessidade_especial', 'qnt_pc',\n",
        "       'qnt_salarios', 'qtd_pessoas_domicilio', 'sigla',\n",
        "       'tempo_entre_conclusao_ingresso'    \n",
        "]\n",
        "\n",
        "dados = dados[atributos]\n",
        "\n",
        "#fill NAN\n",
        "dados['LnguaPortuguesaeLiteraturaI90H'].fillna(-1, inplace=True)\n",
        "dados['LnguaPortuguesaeLiteraturaI90H_dependencia'].fillna(-1, inplace=True)\n",
        "dados['LnguaPortuguesaeLiteraturaI90H_freq'].fillna(-1, inplace=True)\n",
        "\n",
        "dados['MatemticaI120H'].fillna(-1, inplace=True)\n",
        "dados['MatemticaI120H_dependencia'].fillna(-1, inplace=True)\n",
        "dados['MatemticaI120H_freq'].fillna(-1, inplace=True)\n",
        "\n",
        "#use original data\n",
        "dados = dados[dados.artificial == 0]\n",
        "\n",
        "print(dados.classe.value_counts())\n",
        "\n",
        "dados.head(2)"
      ],
      "execution_count": 5,
      "outputs": [
        {
          "output_type": "stream",
          "text": [
            "1    7369\n",
            "0     349\n",
            "Name: classe, dtype: int64\n"
          ],
          "name": "stdout"
        },
        {
          "output_type": "execute_result",
          "data": {
            "text/html": [
              "<div>\n",
              "<style scoped>\n",
              "    .dataframe tbody tr th:only-of-type {\n",
              "        vertical-align: middle;\n",
              "    }\n",
              "\n",
              "    .dataframe tbody tr th {\n",
              "        vertical-align: top;\n",
              "    }\n",
              "\n",
              "    .dataframe thead th {\n",
              "        text-align: right;\n",
              "    }\n",
              "</style>\n",
              "<table border=\"1\" class=\"dataframe\">\n",
              "  <thead>\n",
              "    <tr style=\"text-align: right;\">\n",
              "      <th></th>\n",
              "      <th>LnguaPortuguesaeLiteraturaI90H</th>\n",
              "      <th>LnguaPortuguesaeLiteraturaI90H_dependencia</th>\n",
              "      <th>LnguaPortuguesaeLiteraturaI90H_freq</th>\n",
              "      <th>MatemticaI120H</th>\n",
              "      <th>MatemticaI120H_dependencia</th>\n",
              "      <th>MatemticaI120H_freq</th>\n",
              "      <th>acompanhamento</th>\n",
              "      <th>aluno_exclusivo_rede_publica</th>\n",
              "      <th>artificial</th>\n",
              "      <th>classe</th>\n",
              "      <th>conceito</th>\n",
              "      <th>conceito_freq</th>\n",
              "      <th>descricao_area_residencial</th>\n",
              "      <th>descricao_companhia_domiciliar</th>\n",
              "      <th>descricao_estado_civil</th>\n",
              "      <th>descricao_historico</th>\n",
              "      <th>descricao_imovel</th>\n",
              "      <th>descricao_mae_escolaridade</th>\n",
              "      <th>descricao_pai_escolaridade</th>\n",
              "      <th>descricao_raca</th>\n",
              "      <th>descricao_responsavel_escolaridade</th>\n",
              "      <th>descricao_responsavel_financeiro</th>\n",
              "      <th>descricao_trabalho</th>\n",
              "      <th>idade</th>\n",
              "      <th>pessoa_fisica__sexo</th>\n",
              "      <th>possui_necessidade_especial</th>\n",
              "      <th>qnt_pc</th>\n",
              "      <th>qnt_salarios</th>\n",
              "      <th>qtd_pessoas_domicilio</th>\n",
              "      <th>sigla</th>\n",
              "      <th>tempo_entre_conclusao_ingresso</th>\n",
              "    </tr>\n",
              "  </thead>\n",
              "  <tbody>\n",
              "    <tr>\n",
              "      <th>0</th>\n",
              "      <td>68.0</td>\n",
              "      <td>0</td>\n",
              "      <td>100.0</td>\n",
              "      <td>66.0</td>\n",
              "      <td>0</td>\n",
              "      <td>100.0</td>\n",
              "      <td>0</td>\n",
              "      <td>False</td>\n",
              "      <td>0</td>\n",
              "      <td>1</td>\n",
              "      <td>B</td>\n",
              "      <td>A</td>\n",
              "      <td>Urbana</td>\n",
              "      <td>Mãe</td>\n",
              "      <td>Solteiro(a)</td>\n",
              "      <td>Técnico de Nivel Médio em Informática</td>\n",
              "      <td>Alugado</td>\n",
              "      <td>Ensino fundamental incompleto</td>\n",
              "      <td>Ensino fundamental incompleto</td>\n",
              "      <td>Branca</td>\n",
              "      <td>Ensino fundamental incompleto</td>\n",
              "      <td>Mãe</td>\n",
              "      <td>Não informado</td>\n",
              "      <td>15</td>\n",
              "      <td>F</td>\n",
              "      <td>False</td>\n",
              "      <td>0</td>\n",
              "      <td>1</td>\n",
              "      <td>2</td>\n",
              "      <td>LAJ</td>\n",
              "      <td>1</td>\n",
              "    </tr>\n",
              "    <tr>\n",
              "      <th>10</th>\n",
              "      <td>61.0</td>\n",
              "      <td>0</td>\n",
              "      <td>100.0</td>\n",
              "      <td>60.0</td>\n",
              "      <td>0</td>\n",
              "      <td>100.0</td>\n",
              "      <td>0</td>\n",
              "      <td>False</td>\n",
              "      <td>0</td>\n",
              "      <td>1</td>\n",
              "      <td>B</td>\n",
              "      <td>A</td>\n",
              "      <td>Urbana</td>\n",
              "      <td>Pais</td>\n",
              "      <td>Solteiro(a)</td>\n",
              "      <td>Técnico de Nivel Médio em Informática</td>\n",
              "      <td>Alugado</td>\n",
              "      <td>Ensino médio completo</td>\n",
              "      <td>Ensino médio completo</td>\n",
              "      <td>Parda</td>\n",
              "      <td>Ensino médio completo</td>\n",
              "      <td>Mãe</td>\n",
              "      <td>Não informado</td>\n",
              "      <td>15</td>\n",
              "      <td>M</td>\n",
              "      <td>True</td>\n",
              "      <td>0</td>\n",
              "      <td>2</td>\n",
              "      <td>5</td>\n",
              "      <td>CANG</td>\n",
              "      <td>2</td>\n",
              "    </tr>\n",
              "  </tbody>\n",
              "</table>\n",
              "</div>"
            ],
            "text/plain": [
              "    LnguaPortuguesaeLiteraturaI90H  \\\n",
              "0                             68.0   \n",
              "10                            61.0   \n",
              "\n",
              "    LnguaPortuguesaeLiteraturaI90H_dependencia  \\\n",
              "0                                            0   \n",
              "10                                           0   \n",
              "\n",
              "    LnguaPortuguesaeLiteraturaI90H_freq  MatemticaI120H  \\\n",
              "0                                 100.0            66.0   \n",
              "10                                100.0            60.0   \n",
              "\n",
              "    MatemticaI120H_dependencia  MatemticaI120H_freq  acompanhamento  \\\n",
              "0                            0                100.0               0   \n",
              "10                           0                100.0               0   \n",
              "\n",
              "    aluno_exclusivo_rede_publica  artificial  classe conceito conceito_freq  \\\n",
              "0                          False           0       1        B             A   \n",
              "10                         False           0       1        B             A   \n",
              "\n",
              "   descricao_area_residencial descricao_companhia_domiciliar  \\\n",
              "0                      Urbana                            Mãe   \n",
              "10                     Urbana                           Pais   \n",
              "\n",
              "   descricao_estado_civil                    descricao_historico  \\\n",
              "0             Solteiro(a)  Técnico de Nivel Médio em Informática   \n",
              "10            Solteiro(a)  Técnico de Nivel Médio em Informática   \n",
              "\n",
              "   descricao_imovel     descricao_mae_escolaridade  \\\n",
              "0           Alugado  Ensino fundamental incompleto   \n",
              "10          Alugado          Ensino médio completo   \n",
              "\n",
              "       descricao_pai_escolaridade descricao_raca  \\\n",
              "0   Ensino fundamental incompleto         Branca   \n",
              "10          Ensino médio completo          Parda   \n",
              "\n",
              "   descricao_responsavel_escolaridade descricao_responsavel_financeiro  \\\n",
              "0       Ensino fundamental incompleto                              Mãe   \n",
              "10              Ensino médio completo                              Mãe   \n",
              "\n",
              "   descricao_trabalho  idade pessoa_fisica__sexo  possui_necessidade_especial  \\\n",
              "0       Não informado     15                   F                        False   \n",
              "10      Não informado     15                   M                         True   \n",
              "\n",
              "    qnt_pc  qnt_salarios  qtd_pessoas_domicilio sigla  \\\n",
              "0        0             1                      2   LAJ   \n",
              "10       0             2                      5  CANG   \n",
              "\n",
              "    tempo_entre_conclusao_ingresso  \n",
              "0                                1  \n",
              "10                               2  "
            ]
          },
          "metadata": {
            "tags": []
          },
          "execution_count": 5
        }
      ]
    },
    {
      "metadata": {
        "id": "lM2O2b7-uIZm",
        "colab_type": "text"
      },
      "cell_type": "markdown",
      "source": [
        "Separa os dados em 25% de teste e 75% de treino. Os dois folds são estratificados de acordo com o balanceamento da classe de evasão, a fim de manter a proporção dos dados do conjunto original. \n",
        "\n",
        "Esse conjunto de dados será utilizado em todos os modelos"
      ]
    },
    {
      "metadata": {
        "id": "P9IVX4ner--q",
        "colab_type": "code",
        "outputId": "117d8a83-5348-4ad0-e4e0-35f29860090c",
        "colab": {
          "base_uri": "https://localhost:8080/",
          "height": 68
        }
      },
      "cell_type": "code",
      "source": [
        "#split data test and training. Stratify like imbalanced classes\n",
        "X, y = preparing_data(dados)\n",
        "print(X.shape)\n",
        "\n",
        "Xtrain, Xtest, ytrain, ytest = train_test_split(X, y, random_state=42, stratify = y)"
      ],
      "execution_count": 6,
      "outputs": [
        {
          "output_type": "stream",
          "text": [
            "(7718, 31)\n",
            "(7718, 31)\n",
            "(7718, 151)\n"
          ],
          "name": "stdout"
        }
      ]
    },
    {
      "metadata": {
        "id": "hQNkZ8OPunWR",
        "colab_type": "text"
      },
      "cell_type": "markdown",
      "source": [
        "## Treina os modelos clássicos (MLP, DT)"
      ]
    },
    {
      "metadata": {
        "id": "1A-eOWFnuHcY",
        "colab_type": "code",
        "outputId": "40c143ea-0939-4433-d60c-5fd953e8368a",
        "colab": {
          "base_uri": "https://localhost:8080/",
          "height": 323
        }
      },
      "cell_type": "code",
      "source": [
        "res_models = select_model(Xtrain, Xtest, ytrain, ytest)"
      ],
      "execution_count": 7,
      "outputs": [
        {
          "output_type": "stream",
          "text": [
            "DecisionTree\n",
            "------------\n",
            "Fitting 10 folds for each of 24 candidates, totalling 240 fits\n"
          ],
          "name": "stdout"
        },
        {
          "output_type": "stream",
          "text": [
            "[Parallel(n_jobs=-1)]: Using backend LokyBackend with 2 concurrent workers.\n",
            "[Parallel(n_jobs=-1)]: Done  46 tasks      | elapsed:    5.1s\n",
            "[Parallel(n_jobs=-1)]: Done 196 tasks      | elapsed:   17.1s\n",
            "[Parallel(n_jobs=-1)]: Done 240 out of 240 | elapsed:   20.7s finished\n",
            "[Parallel(n_jobs=-1)]: Using backend LokyBackend with 2 concurrent workers.\n"
          ],
          "name": "stderr"
        },
        {
          "output_type": "stream",
          "text": [
            "Best Score: 0.6593752707599174\n",
            "Best Parameters: {'criterion': 'gini', 'max_depth': None, 'max_leaf_nodes': 20}\n",
            "MLP\n",
            "---\n",
            "Fitting 10 folds for each of 30 candidates, totalling 300 fits\n"
          ],
          "name": "stdout"
        },
        {
          "output_type": "stream",
          "text": [
            "[Parallel(n_jobs=-1)]: Done  46 tasks      | elapsed:   59.3s\n",
            "[Parallel(n_jobs=-1)]: Done 196 tasks      | elapsed:  5.3min\n",
            "[Parallel(n_jobs=-1)]: Done 300 out of 300 | elapsed:  8.4min finished\n"
          ],
          "name": "stderr"
        },
        {
          "output_type": "stream",
          "text": [
            "Best Score: 0.5476551862555553\n",
            "Best Parameters: {'alpha': 0.01, 'hidden_layer_sizes': 14, 'max_iter': 200, 'random_state': 42, 'solver': 'lbfgs'}\n"
          ],
          "name": "stdout"
        }
      ]
    },
    {
      "metadata": {
        "id": "08lbrLGuutnM",
        "colab_type": "text"
      },
      "cell_type": "markdown",
      "source": [
        "Avalia os modelos clássicos. "
      ]
    },
    {
      "metadata": {
        "id": "8iAVlqht24uV",
        "colab_type": "code",
        "outputId": "5f105c0c-4334-47a5-f28b-eb4a1dae268e",
        "colab": {
          "base_uri": "https://localhost:8080/",
          "height": 1943
        }
      },
      "cell_type": "code",
      "source": [
        "kfold = model_selection.KFold(n_splits=10, random_state=0)\n",
        "\n",
        "results = []\n",
        "names = []    \n",
        "\n",
        "#avaliacao individual por modelo\n",
        "for model in res_models:        \n",
        "    print('\\n\\n'+model['name'])\n",
        "    print('-'*len(model['name']))\n",
        "\n",
        "    #sim\n",
        "    ypred = model['best_model'].predict(Xtest)\n",
        "    evaluating(model['best_model'], ytest, ypred, Xtest)\n",
        "    \n",
        "    #boxplot\n",
        "    #testa 10 vezes o modelo, a fim de gerar estatística para ser avaliado no p-value\n",
        "    #cv_results = model_selection.cross_val_score(model[\"best_model\"], Xtest, ytest, cv=kfold, scoring='recall_macro') #scoring='accuracy')\n",
        "    cv_results = model_selection.cross_val_score(model[\"best_model\"], Xtest, ytest, cv=kfold, scoring=make_scorer(geometric_mean_score))\n",
        "    model['cv_results'] = cv_results\n",
        "    results.append(cv_results)\n",
        "    names.append(model['name'])\n",
        "    msg = \"Score do conjunto de testes: %f (%f) \\n\" % (cv_results.mean(), cv_results.std())\n",
        "    print(msg)\n",
        "\n",
        "# boxplot algorithm comparison\n",
        "plot_alg_comp(results, names)"
      ],
      "execution_count": 8,
      "outputs": [
        {
          "output_type": "stream",
          "text": [
            "\n",
            "\n",
            "DecisionTree\n",
            "------------\n",
            "              precision    recall  f1-score   support\n",
            "\n",
            "           0       0.69      0.52      0.59        87\n",
            "           1       0.98      0.99      0.98      1843\n",
            "\n",
            "   micro avg       0.97      0.97      0.97      1930\n",
            "   macro avg       0.83      0.75      0.79      1930\n",
            "weighted avg       0.96      0.97      0.97      1930\n",
            "\n"
          ],
          "name": "stdout"
        },
        {
          "output_type": "display_data",
          "data": {
            "image/png": "[encoded data removed]",
            "text/plain": [
              "<matplotlib.figure.Figure at 0x7fefec4d33c8>"
            ]
          },
          "metadata": {
            "tags": []
          }
        },
        {
          "output_type": "display_data",
          "data": {
            "image/png": "[encoded data removed]",
            "text/plain": [
              "<matplotlib.figure.Figure at 0x7fefec4d3128>"
            ]
          },
          "metadata": {
            "tags": []
          }
        },
        {
          "output_type": "stream",
          "text": [
            "AUC: 0.781622\n",
            "Score do conjunto de testes: 0.651040 (0.142289) \n",
            "\n",
            "\n",
            "\n",
            "MLP\n",
            "---\n",
            "              precision    recall  f1-score   support\n",
            "\n",
            "           0       0.57      0.23      0.33        87\n",
            "           1       0.96      0.99      0.98      1843\n",
            "\n",
            "   micro avg       0.96      0.96      0.96      1930\n",
            "   macro avg       0.77      0.61      0.65      1930\n",
            "weighted avg       0.95      0.96      0.95      1930\n",
            "\n"
          ],
          "name": "stdout"
        },
        {
          "output_type": "display_data",
          "data": {
            "image/png": "[encoded data removed]",
            "text/plain": [
              "<matplotlib.figure.Figure at 0x7fefec4bbda0>"
            ]
          },
          "metadata": {
            "tags": []
          }
        },
        {
          "output_type": "display_data",
          "data": {
            "image/png": "[encoded data removed]",
            "text/plain": [
              "<matplotlib.figure.Figure at 0x7fefec4bdef0>"
            ]
          },
          "metadata": {
            "tags": []
          }
        },
        {
          "output_type": "stream",
          "text": [
            "AUC: 0.906325\n",
            "Score do conjunto de testes: 0.629377 (0.149158) \n",
            "\n"
          ],
          "name": "stdout"
        },
        {
          "output_type": "display_data",
          "data": {
            "image/png": "[encoded data removed]",
            "text/plain": [
              "<matplotlib.figure.Figure at 0x7fefec4d3e48>"
            ]
          },
          "metadata": {
            "tags": []
          }
        }
      ]
    },
    {
      "metadata": {
        "id": "syw9CvMcvbam",
        "colab_type": "text"
      },
      "cell_type": "markdown",
      "source": [
        "##Utilizando técnicas robustas ao desbalanceamento"
      ]
    },
    {
      "metadata": {
        "id": "Is5CaLE4UfqG",
        "colab_type": "code",
        "outputId": "689fc836-7d44-48c2-9a8d-379594f83987",
        "colab": {
          "base_uri": "https://localhost:8080/",
          "height": 1165
        }
      },
      "cell_type": "code",
      "source": [
        "#BalancedBaggingClassifier\n",
        "\n",
        "#classificador base DT\n",
        "tree = DecisionTreeClassifier(max_features='auto')\n",
        "\n",
        "#otimiza parâmetros\n",
        "parameters = {'n_estimators': (10, 30, 100, 200, 300)}\n",
        "\n",
        "grid = GridSearchCV(BalancedBaggingClassifier(base_estimator=tree),\n",
        "                    param_grid=parameters,\n",
        "                    cv=10, \n",
        "                    verbose=1,\n",
        "                    n_jobs = -1,\n",
        "                    scoring=make_scorer(geometric_mean_score))\n",
        "                    #scoring='recall_macro')\n",
        "                    #scoring='accuracy')\n",
        "\n",
        "#treina\n",
        "grid.fit(Xtrain, ytrain)\n",
        "\n",
        "#exibe melhor modelo\n",
        "print(grid.best_params_)\n",
        "print(grid.best_score_)\n",
        "ensemble = grid.best_estimator_\n",
        "\n",
        "#predicao\n",
        "ypred_ensemble = ensemble.predict(Xtest)\n",
        "\n",
        "#avaliacao\n",
        "evaluating(ensemble, ytest, ypred_ensemble, Xtest)\n",
        "\n",
        "cv_results = model_selection.cross_val_score(ensemble, Xtest, ypred_ensemble, \n",
        "                                             cv=model_selection.KFold(\n",
        "                                                 n_splits=10, random_state=0),\n",
        "                                                 scoring=make_scorer(geometric_mean_score))\n",
        "                                             #scoring='recall_macro')\n",
        "                                             #scoring='accuracy')\n",
        "\n",
        "results.append(cv_results)\n",
        "names.append('Balanced Bagging')\n",
        "\n",
        "# boxplot algorithm comparison\n",
        "plot_alg_comp(results, names)"
      ],
      "execution_count": 9,
      "outputs": [
        {
          "output_type": "stream",
          "text": [
            "Fitting 10 folds for each of 5 candidates, totalling 50 fits\n"
          ],
          "name": "stdout"
        },
        {
          "output_type": "stream",
          "text": [
            "[Parallel(n_jobs=-1)]: Using backend LokyBackend with 2 concurrent workers.\n",
            "[Parallel(n_jobs=-1)]: Done  46 tasks      | elapsed:  5.8min\n",
            "[Parallel(n_jobs=-1)]: Done  50 out of  50 | elapsed:  7.1min finished\n"
          ],
          "name": "stderr"
        },
        {
          "output_type": "stream",
          "text": [
            "{'n_estimators': 100}\n",
            "0.8744190245590524\n",
            "              precision    recall  f1-score   support\n",
            "\n",
            "           0       0.31      0.82      0.45        87\n",
            "           1       0.99      0.91      0.95      1843\n",
            "\n",
            "   micro avg       0.91      0.91      0.91      1930\n",
            "   macro avg       0.65      0.86      0.70      1930\n",
            "weighted avg       0.96      0.91      0.93      1930\n",
            "\n"
          ],
          "name": "stdout"
        },
        {
          "output_type": "display_data",
          "data": {
            "image/png": "[encoded data removed]",
            "text/plain": [
              "<matplotlib.figure.Figure at 0x7fefec51f6d8>"
            ]
          },
          "metadata": {
            "tags": []
          }
        },
        {
          "output_type": "display_data",
          "data": {
            "image/png": "[encoded data removed]",
            "text/plain": [
              "<matplotlib.figure.Figure at 0x7fefec4cf2e8>"
            ]
          },
          "metadata": {
            "tags": []
          }
        },
        {
          "output_type": "stream",
          "text": [
            "AUC: 0.935416\n"
          ],
          "name": "stdout"
        },
        {
          "output_type": "display_data",
          "data": {
            "image/png": "[encoded data removed]",
            "text/plain": [
              "<matplotlib.figure.Figure at 0x7fefec52d860>"
            ]
          },
          "metadata": {
            "tags": []
          }
        }
      ]
    },
    {
      "metadata": {
        "id": "uTQtHkqHvomK",
        "colab_type": "text"
      },
      "cell_type": "markdown",
      "source": [
        "## Teste de p-value, a fim de confirmar se os desempenhos são diferentes"
      ]
    },
    {
      "metadata": {
        "id": "ZmOCWtapc_xE",
        "colab_type": "code",
        "outputId": "f35a3688-ab5e-4efb-a361-8a0772236fb1",
        "colab": {
          "base_uri": "https://localhost:8080/",
          "height": 85
        }
      },
      "cell_type": "code",
      "source": [
        "#test p-value \n",
        "from scipy.stats import ttest_ind\n",
        "\n",
        "alpha = 0.05\n",
        "\n",
        "#test DT x Balanced Bagging\n",
        "stat, p = ttest_ind(results[0], results[2])\n",
        "print('Statistics=%.3f, p=%.3f' % (stat, p))\n",
        "# interpret\n",
        "if p > alpha:\n",
        "\tprint('Same distributions (fail to reject H0)')\n",
        "else:\n",
        "\tprint('Different distributions (reject H0)')\n",
        "  \n",
        "#test MLP x Balanced Bagging\n",
        "stat, p = ttest_ind(results[1], results[2])\n",
        "print('Statistics=%.3f, p=%.3f' % (stat, p))\n",
        "# interpret\n",
        "if p > alpha:\n",
        "\tprint('Same distributions (fail to reject H0)')\n",
        "else:\n",
        "\tprint('Different distributions (reject H0)')\n",
        "  \n"
      ],
      "execution_count": 10,
      "outputs": [
        {
          "output_type": "stream",
          "text": [
            "Statistics=-6.464, p=0.000\n",
            "Different distributions (reject H0)\n",
            "Statistics=-6.604, p=0.000\n",
            "Different distributions (reject H0)\n"
          ],
          "name": "stdout"
        }
      ]
    },
    {
      "metadata": {
        "id": "uiZ8XbEalmn2",
        "colab_type": "code",
        "colab": {}
      },
      "cell_type": "code",
      "source": [
        ""
      ],
      "execution_count": 0,
      "outputs": []
    }
  ]
}