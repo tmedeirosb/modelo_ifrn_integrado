{
  "nbformat": 4,
  "nbformat_minor": 0,
  "metadata": {
    "colab": {
      "name": "PAPER_CE.ipynb",
      "version": "0.3.2",
      "provenance": [],
      "collapsed_sections": [],
      "include_colab_link": true
    },
    "kernelspec": {
      "name": "python3",
      "display_name": "Python 3"
    },
    "accelerator": "GPU"
  },
  "cells": [
    {
      "cell_type": "markdown",
      "metadata": {
        "id": "view-in-github",
        "colab_type": "text"
      },
      "source": [
        "<a href=\"https://colab.research.google.com/github/tmedeirosb/modelo_ifrn_integrado/blob/master/PAPER_CE.ipynb\" target=\"_parent\"><img src=\"https://colab.research.google.com/assets/colab-badge.svg\" alt=\"Open In Colab\"/></a>"
      ]
    },
    {
      "metadata": {
        "id": "h-Iir1eBpYDs",
        "colab_type": "text"
      },
      "cell_type": "markdown",
      "source": [
        "# Paper: XXXX\n",
        "# Journal: Computer & Education\n",
        "\n",
        "## Abstract: XXXX\n",
        "\n",
        "O objetivo deste notebook é mostrar que o uso de técnicas de imbalanced learning pode melhorar a acurácia de modelos preditivos de evasão. \n",
        "\n",
        "Na primeira parte do paper serão feitos dois modelos: DT, MLP. A escolha dos dois se deve ao fato que no paper (https://www.sciencedirect.com/science/article/pii/S1877050915036182) essas duas técnicas são as mais utilizadas. \n",
        "\n",
        "Na segunda parte será utilizada a técnica Balanced Bagging (https://imbalanced-learn.readthedocs.io/en/stable/generated/imblearn.ensemble.BalancedBaggingClassifier.html) com o corre DT. \n",
        "\n",
        "Para cada modelo serão gerados as métricas: precision, accuracy, recall, ROC, confusion matrix e G-mean. Este último será utilizado para comparação entre modelos como indicado para problemas de dados desbalanceados (https://sci2s.ugr.es/keel/pdf/algorithm/congreso/kubat97addressing.pdf). \n",
        "\n",
        "Ao fim é feito o teste de p-value para confirmar se houve diferença estatística entre o desempenho dos modelos"
      ]
    },
    {
      "metadata": {
        "id": "WjXsxt7pp8Et",
        "colab_type": "text"
      },
      "cell_type": "markdown",
      "source": [
        "Import packages "
      ]
    },
    {
      "metadata": {
        "id": "9jr0Zc0GqBqq",
        "colab_type": "code",
        "colab": {}
      },
      "cell_type": "code",
      "source": [
        "#import packages\n",
        "\n",
        "#graphs\n",
        "import matplotlib.pyplot as plt\n",
        "import matplotlib\n",
        "import seaborn as sns; sns.set()\n",
        "\n",
        "#google drive\n",
        "import os\n",
        "from google.colab import drive\n",
        "\n",
        "#data crawling\n",
        "import numpy as np\n",
        "import pandas as pd\n",
        "\n",
        "#evalueting models\n",
        "from sklearn.metrics import classification_report\n",
        "from sklearn.metrics import confusion_matrix\n",
        "from sklearn.model_selection import cross_val_predict \n",
        "from sklearn.metrics import roc_curve\n",
        "from sklearn.metrics import roc_auc_score\n",
        "from sklearn.model_selection import cross_val_score\n",
        "from sklearn.metrics import make_scorer\n",
        "from sklearn import model_selection\n",
        "\n",
        "#classic models\n",
        "from sklearn.model_selection import GridSearchCV\n",
        "from sklearn.model_selection import train_test_split\n",
        "from sklearn.tree import DecisionTreeClassifier\n",
        "from sklearn.ensemble import RandomForestClassifier\n",
        "from sklearn.neural_network import MLPClassifier\n",
        "\n",
        "#imbalanced\n",
        "from imblearn.ensemble import BalancedBaggingClassifier\n",
        "from sklearn.model_selection import cross_validate\n",
        "from sklearn.base import BaseEstimator\n",
        "from sklearn.base import ClassifierMixin\n",
        "from imblearn.ensemble import BalanceCascade\n",
        "import operator\n",
        "from sklearn.base import clone\n",
        "from imblearn.metrics import geometric_mean_score\n",
        "from imblearn.under_sampling import RandomUnderSampler\n",
        "from imblearn.pipeline import make_pipeline as make_imb_pipeline\n",
        "\n",
        "#show graphs in notebook\n",
        "%matplotlib inline"
      ],
      "execution_count": 0,
      "outputs": []
    },
    {
      "metadata": {
        "id": "sQNaWFARqGQI",
        "colab_type": "text"
      },
      "cell_type": "markdown",
      "source": [
        "Import database. The construct the database is available in https://github.com/tmedeirosb/modelo_ifrn_integrado/blob/master/versao_2/workflow_criando_base.ipynb "
      ]
    },
    {
      "metadata": {
        "id": "U6PYnnRXpWbW",
        "colab_type": "code",
        "outputId": "4b452c59-d409-4897-8a8a-841947faedf3",
        "colab": {
          "base_uri": "https://localhost:8080/",
          "height": 51
        }
      },
      "cell_type": "code",
      "source": [
        "#impor database\n",
        "drive.mount('/content/drive')\n",
        "dados_tunning = pd.read_json('/content/drive/My Drive/Colab Notebooks/dados/dados_workflow_ivan.json')\n",
        "dados = dados_tunning.copy()\n",
        "dados.shape"
      ],
      "execution_count": 24,
      "outputs": [
        {
          "output_type": "stream",
          "text": [
            "Drive already mounted at /content/drive; to attempt to forcibly remount, call drive.mount(\"/content/drive\", force_remount=True).\n"
          ],
          "name": "stdout"
        },
        {
          "output_type": "execute_result",
          "data": {
            "text/plain": [
              "(8908, 33)"
            ]
          },
          "metadata": {
            "tags": []
          },
          "execution_count": 24
        }
      ]
    },
    {
      "metadata": {
        "id": "UtBdTGM2qWEJ",
        "colab_type": "text"
      },
      "cell_type": "markdown",
      "source": [
        "Functions to pre-process data (remove NaN, dummies transform),  and evaluate the model\n",
        "\n"
      ]
    },
    {
      "metadata": {
        "id": "czxM6DyNo_W_",
        "colab_type": "code",
        "colab": {}
      },
      "cell_type": "code",
      "source": [
        "#config enviroment\n",
        "#show all columns\n",
        "pd.set_option('display.max_columns', None)\n",
        "\n",
        "#clean the NaN\n",
        "def preparing_data(dados):\n",
        "    print(dados.shape)\n",
        "    dados = dados.dropna()\n",
        "    print(dados.shape)\n",
        "    \n",
        "    #configura os dados de entrada e saída\n",
        "    y = dados.classe\n",
        "    X = dados\n",
        "\n",
        "    del X['classe']\n",
        "    X.shape    \n",
        "    \n",
        "    #binazira os dados devido aos atributos categoricos \n",
        "    dados_dummies = pd.get_dummies(X, drop_first=True)\n",
        "    dados_dummies.shape\n",
        "\n",
        "    #remove atributos inconistentes\n",
        "    dados_clean = dados_dummies.replace([np.inf, -np.inf], np.nan)\n",
        "    dados_clean = dados_clean.dropna(axis=1, how='all')\n",
        "    #print(dados_clean.info())\n",
        "    \n",
        "    return (dados_clean, y)\n",
        "\n",
        "#plot roc curve\n",
        "def plot_roc_curve(fpr, tpr, label=None):    \n",
        "    plt.plot(fpr, tpr, linewidth=2, label=label)    \n",
        "    plt.plot([0, 1], [0, 1], 'k--')    \n",
        "    plt.axis([0, 1, 0, 1])   \n",
        "    plt.xlabel('False Positive Rate')    \n",
        "    plt.ylabel('True Positive Rate')\n",
        "    \n",
        "#evaluating models\n",
        "def evaluating(model, ytest, ypred, Xtest):\n",
        "    #matriz de confusao (AP: atual positivo, AN: atual negativo, PP: pred. positivo, PN: pred. negativo)\n",
        "    #     AN | AP \n",
        "    # --------------\n",
        "    # PN: TN | FN\n",
        "    # PP: FP | TP\n",
        "\n",
        "    #Text summary of the precision, recall, F1 score for each class\n",
        "    #precision = TP/(TP+FP); TN/(TN+FN) \n",
        "    #recall    = TP/(TP+FN); TN/(TN+FP)\n",
        "    print(classification_report(ytest, ypred))    \n",
        "    \n",
        "    #Evaluating\n",
        "    mat = confusion_matrix(ytest, ypred)\n",
        "    sns.heatmap(mat.T, square=True, annot=True, fmt='d', cbar=False)\n",
        "    plt.xlabel('true label')\n",
        "    plt.ylabel('predicted label');\n",
        "    \n",
        "    #tn, fp, fn, tp = confusion_matrix(ytest, ypred).ravel()    \n",
        "    #print(tp)\n",
        "    #print(tn)\n",
        "    #print(fn)\n",
        "    #print(fp)\n",
        "    #print( tn/(tn+fp) )\n",
        "    \n",
        "    #CURVA ROC\n",
        "    fig = plt.figure()\n",
        "    y_probas = cross_val_predict(model, Xtest, ytest, cv=10, method=\"predict_proba\") \n",
        "\n",
        "    y_scores = y_probas[:, 1]   # score = proba of positive class \n",
        "    fpr, tpr, thresholds = roc_curve(ytest, y_scores)\n",
        "\n",
        "    plot_roc_curve(fpr, tpr) \n",
        "    plt.show()\n",
        "    print(\"AUC: %f\" % roc_auc_score(ytest, y_scores))\n",
        "    \n",
        "def plot_alg_comp(results, names):\n",
        "  fig = plt.figure()\n",
        "  fig.suptitle('Algorithm Comparison')\n",
        "  ax = fig.add_subplot(111)\n",
        "  plt.boxplot( results )\n",
        "  ax.set_xticklabels( names )\n",
        "  plt.xticks(rotation=90)\n",
        "  plt.show()\n",
        "\n",
        "#metric recall min\n",
        "def recall_min(y_true, y_pred):\n",
        "  tn = confusion_matrix(y_true, y_pred)[0, 0]\n",
        "  fp = confusion_matrix(y_true, y_pred)[0, 1]\n",
        "  return tn/(tn+fp)\n"
      ],
      "execution_count": 0,
      "outputs": []
    },
    {
      "metadata": {
        "id": "sYYQ-SFatnEO",
        "colab_type": "text"
      },
      "cell_type": "markdown",
      "source": [
        "Function que define os parâmetros dos modelos clássicos (DT, MLP) e do GridSearch, a fim de selecionar o melhor modelo"
      ]
    },
    {
      "metadata": {
        "id": "bAAiSeN_uNZ7",
        "colab_type": "code",
        "colab": {}
      },
      "cell_type": "code",
      "source": [
        "def select_model(Xtrain, Xtest, ytrain, ytest):\n",
        "    # List of dictionaries, each containing a model name,\n",
        "    # it's estimator and a dict of hyperparameters\n",
        "    models = [\n",
        "        {\n",
        "            \"name\": \"DecisionTree\",\n",
        "            \"estimator\": DecisionTreeClassifier(),\n",
        "            \"hyperparameters\":\n",
        "                {\n",
        "                    \"criterion\": [\"gini\", \"entropy\"],\n",
        "                    #\"min_samples_split\": [2],\n",
        "                    \"max_depth\": [None, 3, 5],\n",
        "                    #\"min_samples_leaf\": [1],\n",
        "                    \"max_leaf_nodes\": [None, 5, 10, 20]\n",
        "                }\n",
        "        },\n",
        "        {\n",
        "            \"name\":\"MLP\",\n",
        "            \"estimator\": MLPClassifier(),\n",
        "            \"hyperparameters\":\n",
        "            {\n",
        "                'solver': ['lbfgs'], \n",
        "                'max_iter': [200],\n",
        "                'alpha': 10.0 ** -np.arange(1, 4), \n",
        "                'hidden_layer_sizes':np.arange(5, 20, 3), \n",
        "                'random_state':[0, 42]\n",
        "            }            \n",
        "        },\n",
        "        {\n",
        "            \"name\": \"RF\",\n",
        "            \"estimator\": RandomForestClassifier(),\n",
        "            \"hyperparameters\":\n",
        "                {\n",
        "                    \"max_features\": [\"auto\"],\n",
        "                    'n_estimators': [10, 30, 100, 200, 300]\n",
        "                }\n",
        "        }\n",
        "    ]      \n",
        "   \n",
        "    results = []\n",
        "    names = []    \n",
        "         \n",
        "    #for each model traing and evaluating\n",
        "    for model in models:\n",
        "        print(model['name'])\n",
        "        print('-'*len(model['name']))\n",
        "\n",
        "        #find best param\n",
        "        grid = GridSearchCV(model[\"estimator\"],\n",
        "                            param_grid=model[\"hyperparameters\"],\n",
        "                            cv=10, \n",
        "                            verbose=1,\n",
        "                            n_jobs = -1,\n",
        "                            scoring=make_scorer(geometric_mean_score))\n",
        "                            #scoring='recall_macro')\n",
        "                            #scoring='accuracy')\n",
        "                            #scoring=make_scorer(recall_min))\n",
        "        \n",
        "        grid.fit(Xtrain, ytrain)\n",
        "        model[\"best_params\"] = grid.best_params_\n",
        "        model[\"best_score\"] = grid.best_score_\n",
        "        model[\"best_model\"] = grid.best_estimator_\n",
        "\n",
        "        print(\"Best Score: {}\".format(model[\"best_score\"]))\n",
        "        print(\"Best Parameters: {}\".format(model[\"best_params\"]))\n",
        "                \n",
        "    return models"
      ],
      "execution_count": 0,
      "outputs": []
    },
    {
      "metadata": {
        "id": "ftI1Vbbft6IB",
        "colab_type": "text"
      },
      "cell_type": "markdown",
      "source": [
        "Define os atributos da base de dados e, caso ainda tenha valores NAN, substituti por -1"
      ]
    },
    {
      "metadata": {
        "id": "agcnVSLHqerc",
        "colab_type": "code",
        "outputId": "99736bb8-5f92-47bf-ceeb-273eee3e3bb5",
        "colab": {
          "base_uri": "https://localhost:8080/",
          "height": 216
        }
      },
      "cell_type": "code",
      "source": [
        "#select attributes\n",
        "atributos = [\n",
        "       'LnguaPortuguesaeLiteraturaI90H',\n",
        "       'LnguaPortuguesaeLiteraturaI90H_dependencia',\n",
        "       'LnguaPortuguesaeLiteraturaI90H_freq', 'MatemticaI120H',\n",
        "       'MatemticaI120H_dependencia', 'MatemticaI120H_freq', 'acompanhamento',\n",
        "       'aluno_exclusivo_rede_publica', 'artificial', 'classe', 'conceito',\n",
        "       'conceito_freq', 'descricao_area_residencial',\n",
        "       'descricao_companhia_domiciliar', 'descricao_estado_civil',\n",
        "       'descricao_historico', 'descricao_imovel', 'descricao_mae_escolaridade',\n",
        "       'descricao_pai_escolaridade', 'descricao_raca',\n",
        "       'descricao_responsavel_escolaridade',\n",
        "       'descricao_responsavel_financeiro', 'descricao_trabalho', 'idade',\n",
        "       'pessoa_fisica__sexo', 'possui_necessidade_especial', 'qnt_pc',\n",
        "       'qnt_salarios', 'qtd_pessoas_domicilio', 'sigla',\n",
        "       'tempo_entre_conclusao_ingresso'    \n",
        "]\n",
        "\n",
        "dados = dados[atributos]\n",
        "\n",
        "#fill NAN\n",
        "dados['LnguaPortuguesaeLiteraturaI90H'].fillna(-1, inplace=True)\n",
        "dados['LnguaPortuguesaeLiteraturaI90H_dependencia'].fillna(-1, inplace=True)\n",
        "dados['LnguaPortuguesaeLiteraturaI90H_freq'].fillna(-1, inplace=True)\n",
        "\n",
        "dados['MatemticaI120H'].fillna(-1, inplace=True)\n",
        "dados['MatemticaI120H_dependencia'].fillna(-1, inplace=True)\n",
        "dados['MatemticaI120H_freq'].fillna(-1, inplace=True)\n",
        "\n",
        "#use original data\n",
        "dados = dados[dados.artificial == 0]\n",
        "\n",
        "print(dados.classe.value_counts())\n",
        "\n",
        "dados.head(2)"
      ],
      "execution_count": 27,
      "outputs": [
        {
          "output_type": "stream",
          "text": [
            "1    7369\n",
            "0     349\n",
            "Name: classe, dtype: int64\n"
          ],
          "name": "stdout"
        },
        {
          "output_type": "execute_result",
          "data": {
            "text/html": [
              "<div>\n",
              "<style scoped>\n",
              "    .dataframe tbody tr th:only-of-type {\n",
              "        vertical-align: middle;\n",
              "    }\n",
              "\n",
              "    .dataframe tbody tr th {\n",
              "        vertical-align: top;\n",
              "    }\n",
              "\n",
              "    .dataframe thead th {\n",
              "        text-align: right;\n",
              "    }\n",
              "</style>\n",
              "<table border=\"1\" class=\"dataframe\">\n",
              "  <thead>\n",
              "    <tr style=\"text-align: right;\">\n",
              "      <th></th>\n",
              "      <th>LnguaPortuguesaeLiteraturaI90H</th>\n",
              "      <th>LnguaPortuguesaeLiteraturaI90H_dependencia</th>\n",
              "      <th>LnguaPortuguesaeLiteraturaI90H_freq</th>\n",
              "      <th>MatemticaI120H</th>\n",
              "      <th>MatemticaI120H_dependencia</th>\n",
              "      <th>MatemticaI120H_freq</th>\n",
              "      <th>acompanhamento</th>\n",
              "      <th>aluno_exclusivo_rede_publica</th>\n",
              "      <th>artificial</th>\n",
              "      <th>classe</th>\n",
              "      <th>conceito</th>\n",
              "      <th>conceito_freq</th>\n",
              "      <th>descricao_area_residencial</th>\n",
              "      <th>descricao_companhia_domiciliar</th>\n",
              "      <th>descricao_estado_civil</th>\n",
              "      <th>descricao_historico</th>\n",
              "      <th>descricao_imovel</th>\n",
              "      <th>descricao_mae_escolaridade</th>\n",
              "      <th>descricao_pai_escolaridade</th>\n",
              "      <th>descricao_raca</th>\n",
              "      <th>descricao_responsavel_escolaridade</th>\n",
              "      <th>descricao_responsavel_financeiro</th>\n",
              "      <th>descricao_trabalho</th>\n",
              "      <th>idade</th>\n",
              "      <th>pessoa_fisica__sexo</th>\n",
              "      <th>possui_necessidade_especial</th>\n",
              "      <th>qnt_pc</th>\n",
              "      <th>qnt_salarios</th>\n",
              "      <th>qtd_pessoas_domicilio</th>\n",
              "      <th>sigla</th>\n",
              "      <th>tempo_entre_conclusao_ingresso</th>\n",
              "    </tr>\n",
              "  </thead>\n",
              "  <tbody>\n",
              "    <tr>\n",
              "      <th>0</th>\n",
              "      <td>68.0</td>\n",
              "      <td>0</td>\n",
              "      <td>100.0</td>\n",
              "      <td>66.0</td>\n",
              "      <td>0</td>\n",
              "      <td>100.0</td>\n",
              "      <td>0</td>\n",
              "      <td>False</td>\n",
              "      <td>0</td>\n",
              "      <td>1</td>\n",
              "      <td>B</td>\n",
              "      <td>A</td>\n",
              "      <td>Urbana</td>\n",
              "      <td>Mãe</td>\n",
              "      <td>Solteiro(a)</td>\n",
              "      <td>Técnico de Nivel Médio em Informática</td>\n",
              "      <td>Alugado</td>\n",
              "      <td>Ensino fundamental incompleto</td>\n",
              "      <td>Ensino fundamental incompleto</td>\n",
              "      <td>Branca</td>\n",
              "      <td>Ensino fundamental incompleto</td>\n",
              "      <td>Mãe</td>\n",
              "      <td>Não informado</td>\n",
              "      <td>15</td>\n",
              "      <td>F</td>\n",
              "      <td>False</td>\n",
              "      <td>0</td>\n",
              "      <td>1</td>\n",
              "      <td>2</td>\n",
              "      <td>LAJ</td>\n",
              "      <td>1</td>\n",
              "    </tr>\n",
              "    <tr>\n",
              "      <th>10</th>\n",
              "      <td>61.0</td>\n",
              "      <td>0</td>\n",
              "      <td>100.0</td>\n",
              "      <td>60.0</td>\n",
              "      <td>0</td>\n",
              "      <td>100.0</td>\n",
              "      <td>0</td>\n",
              "      <td>False</td>\n",
              "      <td>0</td>\n",
              "      <td>1</td>\n",
              "      <td>B</td>\n",
              "      <td>A</td>\n",
              "      <td>Urbana</td>\n",
              "      <td>Pais</td>\n",
              "      <td>Solteiro(a)</td>\n",
              "      <td>Técnico de Nivel Médio em Informática</td>\n",
              "      <td>Alugado</td>\n",
              "      <td>Ensino médio completo</td>\n",
              "      <td>Ensino médio completo</td>\n",
              "      <td>Parda</td>\n",
              "      <td>Ensino médio completo</td>\n",
              "      <td>Mãe</td>\n",
              "      <td>Não informado</td>\n",
              "      <td>15</td>\n",
              "      <td>M</td>\n",
              "      <td>True</td>\n",
              "      <td>0</td>\n",
              "      <td>2</td>\n",
              "      <td>5</td>\n",
              "      <td>CANG</td>\n",
              "      <td>2</td>\n",
              "    </tr>\n",
              "  </tbody>\n",
              "</table>\n",
              "</div>"
            ],
            "text/plain": [
              "    LnguaPortuguesaeLiteraturaI90H  \\\n",
              "0                             68.0   \n",
              "10                            61.0   \n",
              "\n",
              "    LnguaPortuguesaeLiteraturaI90H_dependencia  \\\n",
              "0                                            0   \n",
              "10                                           0   \n",
              "\n",
              "    LnguaPortuguesaeLiteraturaI90H_freq  MatemticaI120H  \\\n",
              "0                                 100.0            66.0   \n",
              "10                                100.0            60.0   \n",
              "\n",
              "    MatemticaI120H_dependencia  MatemticaI120H_freq  acompanhamento  \\\n",
              "0                            0                100.0               0   \n",
              "10                           0                100.0               0   \n",
              "\n",
              "    aluno_exclusivo_rede_publica  artificial  classe conceito conceito_freq  \\\n",
              "0                          False           0       1        B             A   \n",
              "10                         False           0       1        B             A   \n",
              "\n",
              "   descricao_area_residencial descricao_companhia_domiciliar  \\\n",
              "0                      Urbana                            Mãe   \n",
              "10                     Urbana                           Pais   \n",
              "\n",
              "   descricao_estado_civil                    descricao_historico  \\\n",
              "0             Solteiro(a)  Técnico de Nivel Médio em Informática   \n",
              "10            Solteiro(a)  Técnico de Nivel Médio em Informática   \n",
              "\n",
              "   descricao_imovel     descricao_mae_escolaridade  \\\n",
              "0           Alugado  Ensino fundamental incompleto   \n",
              "10          Alugado          Ensino médio completo   \n",
              "\n",
              "       descricao_pai_escolaridade descricao_raca  \\\n",
              "0   Ensino fundamental incompleto         Branca   \n",
              "10          Ensino médio completo          Parda   \n",
              "\n",
              "   descricao_responsavel_escolaridade descricao_responsavel_financeiro  \\\n",
              "0       Ensino fundamental incompleto                              Mãe   \n",
              "10              Ensino médio completo                              Mãe   \n",
              "\n",
              "   descricao_trabalho  idade pessoa_fisica__sexo  possui_necessidade_especial  \\\n",
              "0       Não informado     15                   F                        False   \n",
              "10      Não informado     15                   M                         True   \n",
              "\n",
              "    qnt_pc  qnt_salarios  qtd_pessoas_domicilio sigla  \\\n",
              "0        0             1                      2   LAJ   \n",
              "10       0             2                      5  CANG   \n",
              "\n",
              "    tempo_entre_conclusao_ingresso  \n",
              "0                                1  \n",
              "10                               2  "
            ]
          },
          "metadata": {
            "tags": []
          },
          "execution_count": 27
        }
      ]
    },
    {
      "metadata": {
        "id": "lM2O2b7-uIZm",
        "colab_type": "text"
      },
      "cell_type": "markdown",
      "source": [
        "Separa os dados em 25% de teste e 75% de treino. Os dois folds são estratificados de acordo com o balanceamento da classe de evasão, a fim de manter a proporção dos dados do conjunto original. \n",
        "\n",
        "Esse conjunto de dados será utilizado em todos os modelos"
      ]
    },
    {
      "metadata": {
        "id": "P9IVX4ner--q",
        "colab_type": "code",
        "outputId": "676f4462-27c2-4b3e-d286-05c96ca2b543",
        "colab": {
          "base_uri": "https://localhost:8080/",
          "height": 68
        }
      },
      "cell_type": "code",
      "source": [
        "#split data test and training. Stratify like imbalanced classes\n",
        "X, y = preparing_data(dados)\n",
        "print(X.shape)\n",
        "\n",
        "Xtrain, Xtest, ytrain, ytest = train_test_split(X, y, random_state=42, stratify = y)"
      ],
      "execution_count": 28,
      "outputs": [
        {
          "output_type": "stream",
          "text": [
            "(7718, 31)\n",
            "(7718, 31)\n",
            "(7718, 151)\n"
          ],
          "name": "stdout"
        }
      ]
    },
    {
      "metadata": {
        "id": "hQNkZ8OPunWR",
        "colab_type": "text"
      },
      "cell_type": "markdown",
      "source": [
        "## Treina os modelos clássicos (MLP, DT)"
      ]
    },
    {
      "metadata": {
        "id": "1A-eOWFnuHcY",
        "colab_type": "code",
        "outputId": "ca35cfcb-678d-4be8-d8db-795300e994ae",
        "colab": {
          "base_uri": "https://localhost:8080/",
          "height": 459
        }
      },
      "cell_type": "code",
      "source": [
        "res_models = select_model(Xtrain, Xtest, ytrain, ytest)"
      ],
      "execution_count": 29,
      "outputs": [
        {
          "output_type": "stream",
          "text": [
            "DecisionTree\n",
            "------------\n",
            "Fitting 10 folds for each of 24 candidates, totalling 240 fits\n"
          ],
          "name": "stdout"
        },
        {
          "output_type": "stream",
          "text": [
            "[Parallel(n_jobs=-1)]: Using backend LokyBackend with 2 concurrent workers.\n",
            "[Parallel(n_jobs=-1)]: Done  46 tasks      | elapsed:    5.6s\n",
            "[Parallel(n_jobs=-1)]: Done 196 tasks      | elapsed:   18.0s\n",
            "[Parallel(n_jobs=-1)]: Done 240 out of 240 | elapsed:   21.8s finished\n",
            "[Parallel(n_jobs=-1)]: Using backend LokyBackend with 2 concurrent workers.\n"
          ],
          "name": "stderr"
        },
        {
          "output_type": "stream",
          "text": [
            "Best Score: 0.6719724569837264\n",
            "Best Parameters: {'criterion': 'entropy', 'max_depth': None, 'max_leaf_nodes': None}\n",
            "MLP\n",
            "---\n",
            "Fitting 10 folds for each of 30 candidates, totalling 300 fits\n"
          ],
          "name": "stdout"
        },
        {
          "output_type": "stream",
          "text": [
            "[Parallel(n_jobs=-1)]: Done  46 tasks      | elapsed:  1.0min\n",
            "[Parallel(n_jobs=-1)]: Done 196 tasks      | elapsed:  5.5min\n",
            "[Parallel(n_jobs=-1)]: Done 300 out of 300 | elapsed:  8.4min finished\n"
          ],
          "name": "stderr"
        },
        {
          "output_type": "stream",
          "text": [
            "Best Score: 0.5476551862555553\n",
            "Best Parameters: {'alpha': 0.01, 'hidden_layer_sizes': 14, 'max_iter': 200, 'random_state': 42, 'solver': 'lbfgs'}\n",
            "RF\n",
            "--\n",
            "Fitting 10 folds for each of 5 candidates, totalling 50 fits\n"
          ],
          "name": "stdout"
        },
        {
          "output_type": "stream",
          "text": [
            "[Parallel(n_jobs=-1)]: Using backend LokyBackend with 2 concurrent workers.\n",
            "[Parallel(n_jobs=-1)]: Done  46 tasks      | elapsed:   27.5s\n"
          ],
          "name": "stderr"
        },
        {
          "output_type": "stream",
          "text": [
            "Best Score: 0.5515714619809875\n",
            "Best Parameters: {'max_features': 'auto', 'n_estimators': 10}\n"
          ],
          "name": "stdout"
        },
        {
          "output_type": "stream",
          "text": [
            "[Parallel(n_jobs=-1)]: Done  50 out of  50 | elapsed:   33.3s finished\n"
          ],
          "name": "stderr"
        }
      ]
    },
    {
      "metadata": {
        "id": "08lbrLGuutnM",
        "colab_type": "text"
      },
      "cell_type": "markdown",
      "source": [
        "Avalia os modelos clássicos. "
      ]
    },
    {
      "metadata": {
        "id": "8iAVlqht24uV",
        "colab_type": "code",
        "outputId": "82e7641c-a63d-43b9-ac04-37b0bada2bce",
        "colab": {
          "base_uri": "https://localhost:8080/",
          "height": 2743
        }
      },
      "cell_type": "code",
      "source": [
        "kfold = model_selection.KFold(n_splits=10, random_state=42)\n",
        "\n",
        "results = []\n",
        "names = []    \n",
        "\n",
        "#avaliacao individual por modelo\n",
        "for model in res_models:        \n",
        "    print('\\n\\n'+model['name'])\n",
        "    print('-'*len(model['name']))\n",
        "\n",
        "    #sim\n",
        "    ypred = model['best_model'].predict(Xtest)\n",
        "    evaluating(model['best_model'], ytest, ypred, Xtest)\n",
        "    \n",
        "    #boxplot\n",
        "    #testa 10 vezes o modelo, a fim de gerar estatística para ser avaliado no p-value\n",
        "    #cv_results = model_selection.cross_val_score(model[\"best_model\"], Xtest, ytest, cv=kfold, scoring='recall_macro') #scoring='accuracy')\n",
        "    cv_results = model_selection.cross_val_score(model[\"best_model\"], Xtest, ytest, cv=kfold, scoring=make_scorer(geometric_mean_score))\n",
        "    model['cv_results'] = cv_results\n",
        "    results.append(cv_results)\n",
        "    names.append(model['name'])\n",
        "    msg = \"Score do conjunto de testes: %f (%f) \\n\" % (cv_results.mean(), cv_results.std())\n",
        "    print(msg)\n",
        "\n",
        "# boxplot algorithm comparison\n",
        "plot_alg_comp(results, names)"
      ],
      "execution_count": 30,
      "outputs": [
        {
          "output_type": "stream",
          "text": [
            "\n",
            "\n",
            "DecisionTree\n",
            "------------\n",
            "              precision    recall  f1-score   support\n",
            "\n",
            "           0       0.44      0.56      0.49        87\n",
            "           1       0.98      0.97      0.97      1843\n",
            "\n",
            "   micro avg       0.95      0.95      0.95      1930\n",
            "   macro avg       0.71      0.76      0.73      1930\n",
            "weighted avg       0.95      0.95      0.95      1930\n",
            "\n"
          ],
          "name": "stdout"
        },
        {
          "output_type": "display_data",
          "data": {
            "image/png": "[encoded data removed]",
            "text/plain": [
              "<matplotlib.figure.Figure at 0x7f2987cb3c88>"
            ]
          },
          "metadata": {
            "tags": []
          }
        },
        {
          "output_type": "display_data",
          "data": {
            "image/png": "[encoded data removed]",
            "text/plain": [
              "<matplotlib.figure.Figure at 0x7f2987cb3da0>"
            ]
          },
          "metadata": {
            "tags": []
          }
        },
        {
          "output_type": "stream",
          "text": [
            "AUC: 0.736817\n",
            "Score do conjunto de testes: 0.698985 (0.145925) \n",
            "\n",
            "\n",
            "\n",
            "MLP\n",
            "---\n",
            "              precision    recall  f1-score   support\n",
            "\n",
            "           0       0.57      0.23      0.33        87\n",
            "           1       0.96      0.99      0.98      1843\n",
            "\n",
            "   micro avg       0.96      0.96      0.96      1930\n",
            "   macro avg       0.77      0.61      0.65      1930\n",
            "weighted avg       0.95      0.96      0.95      1930\n",
            "\n"
          ],
          "name": "stdout"
        },
        {
          "output_type": "display_data",
          "data": {
            "image/png": "[encoded data removed]",
            "text/plain": [
              "<matplotlib.figure.Figure at 0x7f2987cac0b8>"
            ]
          },
          "metadata": {
            "tags": []
          }
        },
        {
          "output_type": "display_data",
          "data": {
            "image/png": "[encoded data removed]",
            "text/plain": [
              "<matplotlib.figure.Figure at 0x7f2987c83f28>"
            ]
          },
          "metadata": {
            "tags": []
          }
        },
        {
          "output_type": "stream",
          "text": [
            "AUC: 0.906325\n",
            "Score do conjunto de testes: 0.629377 (0.149158) \n",
            "\n",
            "\n",
            "\n",
            "RF\n",
            "--\n",
            "              precision    recall  f1-score   support\n",
            "\n",
            "           0       0.73      0.43      0.54        87\n",
            "           1       0.97      0.99      0.98      1843\n",
            "\n",
            "   micro avg       0.97      0.97      0.97      1930\n",
            "   macro avg       0.85      0.71      0.76      1930\n",
            "weighted avg       0.96      0.97      0.96      1930\n",
            "\n"
          ],
          "name": "stdout"
        },
        {
          "output_type": "display_data",
          "data": {
            "image/png": "[encoded data removed]",
            "text/plain": [
              "<matplotlib.figure.Figure at 0x7f2987c6cfd0>"
            ]
          },
          "metadata": {
            "tags": []
          }
        },
        {
          "output_type": "display_data",
          "data": {
            "image/png": "[encoded data removed]",
            "text/plain": [
              "<matplotlib.figure.Figure at 0x7f2987cac0b8>"
            ]
          },
          "metadata": {
            "tags": []
          }
        },
        {
          "output_type": "stream",
          "text": [
            "AUC: 0.871730\n",
            "Score do conjunto de testes: 0.582915 (0.105449) \n",
            "\n"
          ],
          "name": "stdout"
        },
        {
          "output_type": "display_data",
          "data": {
            "image/png": "[encoded data removed]",
            "text/plain": [
              "<matplotlib.figure.Figure at 0x7f2987cb3748>"
            ]
          },
          "metadata": {
            "tags": []
          }
        }
      ]
    },
    {
      "metadata": {
        "id": "_Yxl5DFUz7Wx",
        "colab_type": "code",
        "outputId": "2072654b-0d1f-4ba6-ec99-60f4896f54dd",
        "colab": {
          "base_uri": "https://localhost:8080/",
          "height": 1092
        }
      },
      "cell_type": "code",
      "source": [
        "#rus = RandomUnderSampler(replacement=False)\n",
        "#X_train_subsample, y_train_subsample = rus.fit_sample(Xtrain, ytrain)\n",
        "\n",
        "#undersample_dt = make_imb_pipeline(RandomUnderSampler(), DecisionTreeClassifier(res_models[0]['best_params']))\n",
        "undersample_dt = make_imb_pipeline(RandomUnderSampler(), clone(res_models[0]['best_model']))\n",
        "\n",
        "#treino\n",
        "undersample_dt.fit(Xtrain, ytrain)\n",
        "\n",
        "#predicao\n",
        "ypred = undersample_dt.predict(Xtest)\n",
        "\n",
        "#avaliação \n",
        "evaluating(undersample_dt, ytest, ypred, Xtest)\n",
        "\n",
        "cv_results = model_selection.cross_val_score(undersample_dt, Xtest, ypred, \n",
        "                                             cv=model_selection.KFold(\n",
        "                                                 n_splits=10, random_state=42),\n",
        "                                                 scoring=make_scorer(geometric_mean_score))\n",
        "\n",
        "results.append(cv_results)\n",
        "names.append('DT Undersample')\n",
        "\n",
        "msg = \"Score do conjunto de testes: %f (%f) \\n\" % (cv_results.mean(), cv_results.std())\n",
        "print(msg)\n",
        "\n",
        "# boxplot algorithm comparison\n",
        "plot_alg_comp(results, names)"
      ],
      "execution_count": 31,
      "outputs": [
        {
          "output_type": "stream",
          "text": [
            "              precision    recall  f1-score   support\n",
            "\n",
            "           0       0.18      0.80      0.29        87\n",
            "           1       0.99      0.83      0.90      1843\n",
            "\n",
            "   micro avg       0.82      0.82      0.82      1930\n",
            "   macro avg       0.58      0.82      0.60      1930\n",
            "weighted avg       0.95      0.82      0.87      1930\n",
            "\n"
          ],
          "name": "stdout"
        },
        {
          "output_type": "display_data",
          "data": {
            "image/png": "[encoded data removed]",
            "text/plain": [
              "<matplotlib.figure.Figure at 0x7f2987cb3cf8>"
            ]
          },
          "metadata": {
            "tags": []
          }
        },
        {
          "output_type": "display_data",
          "data": {
            "image/png": "[encoded data removed]",
            "text/plain": [
              "<matplotlib.figure.Figure at 0x7f29881946a0>"
            ]
          },
          "metadata": {
            "tags": []
          }
        },
        {
          "output_type": "stream",
          "text": [
            "AUC: 0.808652\n",
            "Score do conjunto de testes: 0.907589 (0.017489) \n",
            "\n"
          ],
          "name": "stdout"
        },
        {
          "output_type": "display_data",
          "data": {
            "image/png": "[encoded data removed]",
            "text/plain": [
              "<matplotlib.figure.Figure at 0x7f298727fe48>"
            ]
          },
          "metadata": {
            "tags": []
          }
        }
      ]
    },
    {
      "metadata": {
        "id": "5F8juVW9FRA-",
        "colab_type": "code",
        "outputId": "ae616fc4-5565-4610-9b6a-459d3f6cfbb0",
        "colab": {
          "base_uri": "https://localhost:8080/",
          "height": 1099
        }
      },
      "cell_type": "code",
      "source": [
        "undersample_mlp = make_imb_pipeline(RandomUnderSampler(), clone(res_models[1]['best_model']))\n",
        "\n",
        "#treino\n",
        "undersample_mlp.fit(Xtrain, ytrain)\n",
        "\n",
        "#predicao\n",
        "ypred = undersample_mlp.predict(Xtest)\n",
        "\n",
        "#avaliação \n",
        "evaluating(undersample_mlp, ytest, ypred, Xtest)\n",
        "\n",
        "cv_results = model_selection.cross_val_score(undersample_mlp, Xtest, ypred, \n",
        "                                             cv=model_selection.KFold(\n",
        "                                                 n_splits=10, random_state=42),\n",
        "                                                 scoring=make_scorer(geometric_mean_score))\n",
        "\n",
        "results.append(cv_results)\n",
        "names.append('MLP Undersample')\n",
        "\n",
        "msg = \"Score do conjunto de testes: %f (%f) \\n\" % (cv_results.mean(), cv_results.std())\n",
        "print(msg)\n",
        "\n",
        "# boxplot algorithm comparison\n",
        "plot_alg_comp(results, names)\n"
      ],
      "execution_count": 32,
      "outputs": [
        {
          "output_type": "stream",
          "text": [
            "              precision    recall  f1-score   support\n",
            "\n",
            "           0       0.20      0.86      0.33        87\n",
            "           1       0.99      0.84      0.91      1843\n",
            "\n",
            "   micro avg       0.84      0.84      0.84      1930\n",
            "   macro avg       0.60      0.85      0.62      1930\n",
            "weighted avg       0.96      0.84      0.88      1930\n",
            "\n"
          ],
          "name": "stdout"
        },
        {
          "output_type": "display_data",
          "data": {
            "image/png": "[encoded data removed]",
            "text/plain": [
              "<matplotlib.figure.Figure at 0x7f298728d240>"
            ]
          },
          "metadata": {
            "tags": []
          }
        },
        {
          "output_type": "display_data",
          "data": {
            "image/png": "[encoded data removed]",
            "text/plain": [
              "<matplotlib.figure.Figure at 0x7f2987cba898>"
            ]
          },
          "metadata": {
            "tags": []
          }
        },
        {
          "output_type": "stream",
          "text": [
            "AUC: 0.875603\n",
            "Score do conjunto de testes: 0.919908 (0.019101) \n",
            "\n"
          ],
          "name": "stdout"
        },
        {
          "output_type": "display_data",
          "data": {
            "image/png": "[encoded data removed]",
            "text/plain": [
              "<matplotlib.figure.Figure at 0x7f2987cba978>"
            ]
          },
          "metadata": {
            "tags": []
          }
        }
      ]
    },
    {
      "metadata": {
        "id": "C5danQAGuORi",
        "colab_type": "code",
        "colab": {
          "base_uri": "https://localhost:8080/",
          "height": 1099
        },
        "outputId": "4514e88b-0148-47de-87c7-3cddb602f1ee"
      },
      "cell_type": "code",
      "source": [
        "undersample_rf = make_imb_pipeline(RandomUnderSampler(), clone(res_models[2]['best_model']))\n",
        "\n",
        "#treino\n",
        "undersample_rf.fit(Xtrain, ytrain)\n",
        "\n",
        "#predicao\n",
        "ypred = undersample_rf.predict(Xtest)\n",
        "\n",
        "#avaliação \n",
        "evaluating(undersample_rf, ytest, ypred, Xtest)\n",
        "\n",
        "cv_results = model_selection.cross_val_score(undersample_rf, Xtest, ypred, \n",
        "                                             cv=model_selection.KFold(\n",
        "                                                 n_splits=10, random_state=42),\n",
        "                                                 scoring=make_scorer(geometric_mean_score))\n",
        "\n",
        "results.append(cv_results)\n",
        "names.append('RF Undersample')\n",
        "\n",
        "msg = \"Score do conjunto de testes: %f (%f) \\n\" % (cv_results.mean(), cv_results.std())\n",
        "print(msg)\n",
        "\n",
        "# boxplot algorithm comparison\n",
        "plot_alg_comp(results, names)\n"
      ],
      "execution_count": 33,
      "outputs": [
        {
          "output_type": "stream",
          "text": [
            "              precision    recall  f1-score   support\n",
            "\n",
            "           0       0.21      0.89      0.34        87\n",
            "           1       0.99      0.84      0.91      1843\n",
            "\n",
            "   micro avg       0.84      0.84      0.84      1930\n",
            "   macro avg       0.60      0.86      0.63      1930\n",
            "weighted avg       0.96      0.84      0.89      1930\n",
            "\n"
          ],
          "name": "stdout"
        },
        {
          "output_type": "display_data",
          "data": {
            "image/png": "[encoded data removed]",
            "text/plain": [
              "<matplotlib.figure.Figure at 0x7f298725b2e8>"
            ]
          },
          "metadata": {
            "tags": []
          }
        },
        {
          "output_type": "display_data",
          "data": {
            "image/png": "[encoded data removed]",
            "text/plain": [
              "<matplotlib.figure.Figure at 0x7f298728d860>"
            ]
          },
          "metadata": {
            "tags": []
          }
        },
        {
          "output_type": "stream",
          "text": [
            "AUC: 0.896474\n",
            "Score do conjunto de testes: 0.882760 (0.027502) \n",
            "\n"
          ],
          "name": "stdout"
        },
        {
          "output_type": "display_data",
          "data": {
            "image/png": "[encoded data removed]",
            "text/plain": [
              "<matplotlib.figure.Figure at 0x7f2987c7f710>"
            ]
          },
          "metadata": {
            "tags": []
          }
        }
      ]
    },
    {
      "metadata": {
        "id": "38N_bMRwz8Rr",
        "colab_type": "text"
      },
      "cell_type": "markdown",
      "source": [
        "Modelos clássicos com undersample"
      ]
    },
    {
      "metadata": {
        "id": "syw9CvMcvbam",
        "colab_type": "text"
      },
      "cell_type": "markdown",
      "source": [
        "##Utilizando técnicas robustas ao desbalanceamento"
      ]
    },
    {
      "metadata": {
        "id": "Is5CaLE4UfqG",
        "colab_type": "code",
        "outputId": "d108a4d2-63d4-486a-b78e-fa91b0f2725d",
        "colab": {
          "base_uri": "https://localhost:8080/",
          "height": 1201
        }
      },
      "cell_type": "code",
      "source": [
        "#BalancedBaggingClassifier\n",
        "\n",
        "#classificador base DT\n",
        "tree = DecisionTreeClassifier(max_features='auto')\n",
        "\n",
        "#otimiza parâmetros\n",
        "parameters = {'n_estimators': (10, 30, 100, 200, 300)}\n",
        "\n",
        "grid = GridSearchCV(BalancedBaggingClassifier(base_estimator=tree),\n",
        "                    param_grid=parameters,\n",
        "                    cv=10, \n",
        "                    verbose=1,\n",
        "                    n_jobs = -1,\n",
        "                    scoring=make_scorer(geometric_mean_score))\n",
        "                    #scoring='recall_macro')\n",
        "                    #scoring='accuracy')\n",
        "\n",
        "#treina\n",
        "grid.fit(Xtrain, ytrain)\n",
        "\n",
        "#exibe melhor modelo\n",
        "print(grid.best_params_)\n",
        "print(grid.best_score_)\n",
        "ensemble = grid.best_estimator_\n",
        "\n",
        "#predicao\n",
        "ypred_ensemble = ensemble.predict(Xtest)\n",
        "\n",
        "#avaliacao\n",
        "evaluating(ensemble, ytest, ypred_ensemble, Xtest)\n",
        "\n",
        "cv_results = model_selection.cross_val_score(ensemble, Xtest, ypred_ensemble, \n",
        "                                             cv=model_selection.KFold(\n",
        "                                                 n_splits=10, random_state=42),\n",
        "                                                 scoring=make_scorer(geometric_mean_score))\n",
        "                                             #scoring='recall_macro')\n",
        "                                             #scoring='accuracy')\n",
        "\n",
        "results.append(cv_results)\n",
        "names.append('Balanced Bagging')\n",
        "\n",
        "msg = \"Score do conjunto de testes: %f (%f) \\n\" % (cv_results.mean(), cv_results.std())\n",
        "print(msg)\n",
        "\n",
        "# boxplot algorithm comparison\n",
        "plot_alg_comp(results, names)"
      ],
      "execution_count": 34,
      "outputs": [
        {
          "output_type": "stream",
          "text": [
            "Fitting 10 folds for each of 5 candidates, totalling 50 fits\n"
          ],
          "name": "stdout"
        },
        {
          "output_type": "stream",
          "text": [
            "[Parallel(n_jobs=-1)]: Using backend LokyBackend with 2 concurrent workers.\n",
            "[Parallel(n_jobs=-1)]: Done  46 tasks      | elapsed:  5.3min\n",
            "[Parallel(n_jobs=-1)]: Done  50 out of  50 | elapsed:  6.5min finished\n"
          ],
          "name": "stderr"
        },
        {
          "output_type": "stream",
          "text": [
            "{'n_estimators': 300}\n",
            "0.8690304671404693\n",
            "              precision    recall  f1-score   support\n",
            "\n",
            "           0       0.29      0.83      0.43        87\n",
            "           1       0.99      0.91      0.95      1843\n",
            "\n",
            "   micro avg       0.90      0.90      0.90      1930\n",
            "   macro avg       0.64      0.87      0.69      1930\n",
            "weighted avg       0.96      0.90      0.92      1930\n",
            "\n"
          ],
          "name": "stdout"
        },
        {
          "output_type": "display_data",
          "data": {
            "image/png": "[encoded data removed]",
            "text/plain": [
              "<matplotlib.figure.Figure at 0x7f2987264198>"
            ]
          },
          "metadata": {
            "tags": []
          }
        },
        {
          "output_type": "display_data",
          "data": {
            "image/png": "[encoded data removed]",
            "text/plain": [
              "<matplotlib.figure.Figure at 0x7f298726cac8>"
            ]
          },
          "metadata": {
            "tags": []
          }
        },
        {
          "output_type": "stream",
          "text": [
            "AUC: 0.932400\n",
            "Score do conjunto de testes: 0.965701 (0.013886) \n",
            "\n"
          ],
          "name": "stdout"
        },
        {
          "output_type": "display_data",
          "data": {
            "image/png": "[encoded data removed]",
            "text/plain": [
              "<matplotlib.figure.Figure at 0x7f2981f2e358>"
            ]
          },
          "metadata": {
            "tags": []
          }
        }
      ]
    },
    {
      "metadata": {
        "id": "uTQtHkqHvomK",
        "colab_type": "text"
      },
      "cell_type": "markdown",
      "source": [
        "## Teste de p-value, a fim de confirmar se os desempenhos são diferentes"
      ]
    },
    {
      "metadata": {
        "id": "ZmOCWtapc_xE",
        "colab_type": "code",
        "outputId": "972111a8-624e-46c4-9e38-82b2f5ca6d42",
        "colab": {
          "base_uri": "https://localhost:8080/",
          "height": 459
        }
      },
      "cell_type": "code",
      "source": [
        "#test p-value \n",
        "from scipy.stats import ttest_ind\n",
        "\n",
        "print(results)\n",
        "\n",
        "alpha = 0.05\n",
        "\n",
        "print(\"test DT x DT Undersample\")\n",
        "stat, p = ttest_ind(results[0], results[3])\n",
        "print('Statistics=%.3f, p=%.3f' % (stat, p))\n",
        "# interpret\n",
        "if p > alpha:\n",
        "\tprint('Same distributions (fail to reject H0)')\n",
        "else:\n",
        "\tprint('Different distributions (reject H0)')\n",
        "  \n",
        "print(\"test MLP x MLP Undersample\")\n",
        "stat, p = ttest_ind(results[1], results[4])\n",
        "print('Statistics=%.3f, p=%.3f' % (stat, p))\n",
        "# interpret\n",
        "if p > alpha:\n",
        "\tprint('Same distributions (fail to reject H0)')\n",
        "else:\n",
        "\tprint('Different distributions (reject H0)')\n",
        "  \n",
        "print(\"test RF x RF Undersample\")\n",
        "stat, p = ttest_ind(results[2], results[5])\n",
        "print('Statistics=%.3f, p=%.3f' % (stat, p))\n",
        "# interpret\n",
        "if p > alpha:\n",
        "\tprint('Same distributions (fail to reject H0)')\n",
        "else:\n",
        "\tprint('Different distributions (reject H0)')\n",
        "  \n",
        "print(\"test DT Undersample x BRF\")\n",
        "stat, p = ttest_ind(results[3], results[6])\n",
        "print('Statistics=%.3f, p=%.3f' % (stat, p))\n",
        "# interpret\n",
        "if p > alpha:\n",
        "\tprint('Same distributions (fail to reject H0)')\n",
        "else:\n",
        "\tprint('Different distributions (reject H0)')\n",
        "\n",
        "  \n",
        "print(\"test ML Undersample x BRF\")\n",
        "stat, p = ttest_ind(results[4], results[6])\n",
        "print('Statistics=%.3f, p=%.3f' % (stat, p))\n",
        "# interpret\n",
        "if p > alpha:\n",
        "\tprint('Same distributions (fail to reject H0)')\n",
        "else:\n",
        "\tprint('Different distributions (reject H0)')\n",
        "\n",
        "  \n",
        "print(\"test RF Undersample x BRF\")\n",
        "stat, p = ttest_ind(results[5], results[6])\n",
        "print('Statistics=%.3f, p=%.3f' % (stat, p))\n",
        "# interpret\n",
        "if p > alpha:\n",
        "\tprint('Same distributions (fail to reject H0)')\n",
        "else:\n",
        "\tprint('Different distributions (reject H0)')\n"
      ],
      "execution_count": 35,
      "outputs": [
        {
          "output_type": "stream",
          "text": [
            "[array([0.69958415, 0.31012072, 0.76839152, 0.72627304, 0.90305483,\n",
            "       0.66487438, 0.67558142, 0.6992498 , 0.80550689, 0.73720978]), array([0.70523365, 0.546224  , 0.8872621 , 0.29985011, 0.69374594,\n",
            "       0.51935563, 0.73175822, 0.64012545, 0.69758943, 0.57262427]), array([0.5       , 0.44476309, 0.76631197, 0.60302269, 0.57270039,\n",
            "       0.67234511, 0.5547002 , 0.64549722, 0.40496033, 0.6648526 ]), array([0.90856128, 0.90493907, 0.89361812, 0.86750642, 0.91803987,\n",
            "       0.92930468, 0.91340775, 0.91948602, 0.89509131, 0.92593151]), array([0.93769408, 0.90967347, 0.95634527, 0.88273483, 0.92310062,\n",
            "       0.90443165, 0.9223968 , 0.93305318, 0.9191539 , 0.91049551]), array([0.87397889, 0.84115228, 0.85958098, 0.93821081, 0.88072452,\n",
            "       0.90054184, 0.86481615, 0.89802651, 0.86023253, 0.91033447]), array([0.98280674, 0.94296208, 0.9911372 , 0.97332853, 0.95979796,\n",
            "       0.95319013, 0.95388068, 0.96650491, 0.96039372, 0.97301246])]\n",
            "test DT x DT Undersample\n",
            "Statistics=-4.258, p=0.000\n",
            "Different distributions (reject H0)\n",
            "test MLP x MLP Undersample\n",
            "Statistics=-5.796, p=0.000\n",
            "Different distributions (reject H0)\n",
            "test RF x RF Undersample\n",
            "Statistics=-8.254, p=0.000\n",
            "Different distributions (reject H0)\n",
            "test DT Undersample x BRF\n",
            "Statistics=-7.807, p=0.000\n",
            "Different distributions (reject H0)\n",
            "test ML Undersample x BRF\n",
            "Statistics=-5.818, p=0.000\n",
            "Different distributions (reject H0)\n",
            "test RF Undersample x BRF\n",
            "Statistics=-8.076, p=0.000\n",
            "Different distributions (reject H0)\n"
          ],
          "name": "stdout"
        }
      ]
    },
    {
      "metadata": {
        "id": "uiZ8XbEalmn2",
        "colab_type": "code",
        "colab": {
          "base_uri": "https://localhost:8080/",
          "height": 367
        },
        "outputId": "d6473cdc-bea8-47ef-8d4a-ca744cb8de0e"
      },
      "cell_type": "code",
      "source": [
        "# boxplot algorithm comparison\n",
        "plot_alg_comp([results[0], results[1], results[3], results[4]], [names[0], names[1], names[3], names[4]])"
      ],
      "execution_count": 37,
      "outputs": [
        {
          "output_type": "display_data",
          "data": {
            "image/png": "[encoded data removed]",
            "text/plain": [
              "<matplotlib.figure.Figure at 0x7f29872b2cf8>"
            ]
          },
          "metadata": {
            "tags": []
          }
        }
      ]
    },
    {
      "metadata": {
        "id": "mmY_D0Fu8If8",
        "colab_type": "code",
        "colab": {}
      },
      "cell_type": "code",
      "source": [
        ""
      ],
      "execution_count": 0,
      "outputs": []
    }
  ]
}